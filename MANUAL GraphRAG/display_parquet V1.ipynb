{
 "cells": [
  {
   "cell_type": "code",
   "execution_count": 5,
   "metadata": {},
   "outputs": [
    {
     "name": "stdout",
     "output_type": "stream",
     "text": [
      "Warning: When  cdn_resources is 'local' jupyter notebook has issues displaying graphics on chrome/safari. Use cdn_resources='in_line' or cdn_resources='remote' if you have issues viewing graphics in a notebook.\n",
      "graphrag_network.html\n",
      "Graph visualization saved as graphrag_network.html\n",
      "Entities saved to C:\\Users\\omar2\\ragtest\\output\\20240824-111436\\artifacts\\entities.xlsx\n",
      "Relationships saved to C:\\Users\\omar2\\ragtest\\output\\20240824-111436\\artifacts\\relationships.xlsx\n"
     ]
    }
   ],
   "source": [
    "import os\n",
    "import pandas as pd\n",
    "from pyvis.network import Network\n",
    "import networkx as nx\n",
    "\n",
    "# Define the directory containing the Parquet files\n",
    "data_dir = r\"C:\\Users\\omar2\\ragtest\\output\\20240824-111436\\artifacts\"  # Replace with the actual timestamp\n",
    "\n",
    "# Load the entity and relationship data\n",
    "entities_file = os.path.join(data_dir, 'create_final_entities.parquet')\n",
    "relationships_file = os.path.join(data_dir, 'create_final_relationships.parquet')\n",
    "\n",
    "entities_df = pd.read_parquet(entities_file)\n",
    "relationships_df = pd.read_parquet(relationships_file)\n",
    "\n",
    "# Create a NetworkX graph\n",
    "G = nx.Graph()\n",
    "\n",
    "# Add nodes (entities) to the graph\n",
    "for _, entity in entities_df.iterrows():\n",
    "    G.add_node(entity['id'], label=entity['name'], title=entity['description'])\n",
    "\n",
    "# Add edges (relationships) to the graph\n",
    "for _, relation in relationships_df.iterrows():\n",
    "    G.add_edge(relation['source'], relation['target'], title=relation['description'])\n",
    "\n",
    "# Create a PyVis network from the NetworkX graph\n",
    "net = Network(notebook=True, width=\"100%\", height=\"700px\", bgcolor=\"#222222\", font_color=\"white\")\n",
    "net.from_nx(G)\n",
    "\n",
    "# Customize the appearance of the graph\n",
    "net.toggle_physics(True)\n",
    "net.show_buttons(filter_=['physics'])\n",
    "\n",
    "# Save the graph as an HTML file in the current directory\n",
    "output_file = 'graphrag_network.html'\n",
    "net.show(output_file)\n",
    "\n",
    "print(f\"Graph visualization saved as {output_file}\")\n",
    "\n",
    "# Save entities to an Excel file\n",
    "entities_excel_output_file = os.path.join(data_dir, 'entities.xlsx')\n",
    "entities_df.to_excel(entities_excel_output_file, index=False)\n",
    "print(f\"Entities saved to {entities_excel_output_file}\")\n",
    "\n",
    "# Save relationships to a separate Excel file\n",
    "relationships_excel_output_file = os.path.join(data_dir, 'relationships.xlsx')\n",
    "relationships_df.to_excel(relationships_excel_output_file, index=False)\n",
    "print(f\"Relationships saved to {relationships_excel_output_file}\")\n"
   ]
  }
 ],
 "metadata": {
  "kernelspec": {
   "display_name": "base",
   "language": "python",
   "name": "python3"
  },
  "language_info": {
   "codemirror_mode": {
    "name": "ipython",
    "version": 3
   },
   "file_extension": ".py",
   "mimetype": "text/x-python",
   "name": "python",
   "nbconvert_exporter": "python",
   "pygments_lexer": "ipython3",
   "version": "3.12.4"
  }
 },
 "nbformat": 4,
 "nbformat_minor": 2
}
